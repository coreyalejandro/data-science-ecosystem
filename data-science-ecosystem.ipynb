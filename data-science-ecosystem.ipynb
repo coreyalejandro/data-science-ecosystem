{
  "cells": [
    {
      "cell_type": "markdown",
      "metadata": {
        "id": "9c5e64dc-2bc7-4640-9b71-877eda7b6100"
      },
      "source": [
        "<center>\n",
        "    <img src=\"https://cf-courses-data.s3.us.cloud-object-storage.appdomain.cloud/IBMDeveloperSkillsNetwork-DS0105EN-SkillsNetwork/labs/Module2/images/SN_web_lightmode.png\" width=\"300\" alt=\"cognitiveclass.ai logo\">\n",
        "</center>\n"
      ]
    },
    {
      "cell_type": "markdown",
      "source": [
        "# Data Science Tools and Ecosystem"
      ],
      "metadata": {
        "id": "GFSbjPHB-imo"
      }
    },
    {
      "cell_type": "markdown",
      "source": [
        "## Author\n",
        "Corey Alejandro"
      ],
      "metadata": {
        "id": "ZU07NNvfQbPD"
      }
    },
    {
      "cell_type": "markdown",
      "source": [
        "## Introduction"
      ],
      "metadata": {
        "id": "nSj0Cv3s3YXV"
      }
    },
    {
      "cell_type": "markdown",
      "source": [
        "In this notebook, Data Science Tools and Ecosystem are summarized."
      ],
      "metadata": {
        "id": "eDHoUOJG_uef"
      }
    },
    {
      "cell_type": "markdown",
      "source": [
        "## Objectives"
      ],
      "metadata": {
        "id": "RoXoCcWp3wln"
      }
    },
    {
      "cell_type": "markdown",
      "source": [
        "**Objectives:**\n",
        "\n",
        "* List popular languages for Data Science\n",
        "* List popular libraries for Data Science\n",
        "* List popular tools for Data Science\n",
        "* Evaluate arithmetic expressions\n",
        "* Convert units of time"
      ],
      "metadata": {
        "id": "eIOv6_5hKR6p"
      }
    },
    {
      "cell_type": "markdown",
      "source": [
        "## Languages, Libraries, and Tools"
      ],
      "metadata": {
        "id": "5TGkmxBE4LqH"
      }
    },
    {
      "cell_type": "markdown",
      "source": [
        " Some of the popular languages that Data Scientists use are:\n",
        "\n",
        "1. Python\n",
        "2. R\n",
        "3. SQL\n",
        "4. Julia"
      ],
      "metadata": {
        "id": "chH44bWOxIl8"
      }
    },
    {
      "cell_type": "markdown",
      "source": [
        "Some of the commonly used libraries used by Data Scientists include:\n",
        "1. Pandas\n",
        "2. NumPy\n",
        "3. Matplotlib\n",
        "4. Seaborn\n",
        "5. Scikit-learn"
      ],
      "metadata": {
        "id": "Q6yiFeLtGUrd"
      }
    },
    {
      "cell_type": "markdown",
      "source": [
        "A table of Data Science tools\n",
        "\n",
        "| Data Science Tools |\n",
        "|---|\n",
        "| Jupyter Notebooks |\n",
        "| RStudio |\n",
        "| VS Code |"
      ],
      "metadata": {
        "id": "tCFSXSBeyee7"
      }
    },
    {
      "cell_type": "markdown",
      "source": [
        "## Python Arithmetic Examples"
      ],
      "metadata": {
        "id": "eMmfbO1539YT"
      }
    },
    {
      "cell_type": "markdown",
      "source": [
        "#### Below are a few examples of evaluating arithmetic expressions in Python."
      ],
      "metadata": {
        "id": "m__XrftJHyZW"
      }
    },
    {
      "cell_type": "code",
      "source": [
        "# This is a simple arithmetic expression to multiply then add integers.\n",
        "(3 * 4) + 5"
      ],
      "metadata": {
        "colab": {
          "base_uri": "https://localhost:8080/"
        },
        "id": "_ktXKK2CI5Yn",
        "outputId": "d3434a36-6de7-4f80-f87b-31f42c862081"
      },
      "execution_count": null,
      "outputs": [
        {
          "output_type": "execute_result",
          "data": {
            "text/plain": [
              "17"
            ]
          },
          "metadata": {},
          "execution_count": 1
        }
      ]
    },
    {
      "cell_type": "code",
      "source": [
        "# This will convert 200 minutes to hours by dividing by 60.\n",
        "200 / 60"
      ],
      "metadata": {
        "colab": {
          "base_uri": "https://localhost:8080/"
        },
        "id": "yuERypIVJjVm",
        "outputId": "652657c2-183c-438f-d339-6cadcc372267"
      },
      "execution_count": null,
      "outputs": [
        {
          "output_type": "execute_result",
          "data": {
            "text/plain": [
              "3.3333333333333335"
            ]
          },
          "metadata": {},
          "execution_count": 2
        }
      ]
    },
    {
      "cell_type": "markdown",
      "metadata": {
        "id": "b5f467ed-efe7-45ac-a08b-b2d48c26ba81"
      },
      "source": [
        "Copyright ©2024 IBM Corporation. All rights reserved.\n"
      ]
    }
  ],
  "metadata": {
    "kernelspec": {
      "display_name": "Python",
      "language": "python",
      "name": "conda-env-python-py"
    },
    "language_info": {
      "name": "python",
      "version": "3.7.12",
      "mimetype": "text/x-python",
      "codemirror_mode": {
        "name": "ipython",
        "version": 3
      },
      "pygments_lexer": "ipython3",
      "nbconvert_exporter": "python",
      "file_extension": ".py"
    },
    "prev_pub_hash": "9e1985db9844176462bd1d5863048c9f3d17404bbc6a648be9084b0c42b29347",
    "colab": {
      "provenance": []
    }
  },
  "nbformat": 4,
  "nbformat_minor": 0
}